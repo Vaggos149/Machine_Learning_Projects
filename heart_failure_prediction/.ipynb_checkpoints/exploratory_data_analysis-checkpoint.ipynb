{
 "cells": [
  {
   "cell_type": "code",
   "execution_count": 13,
   "metadata": {},
   "outputs": [],
   "source": [
    "import objects\n",
    "import utils\n",
    "import settings\n",
    "import numpy as np\n",
    "import pandas as pd\n",
    "import seaborn as sns"
   ]
  },
  {
   "cell_type": "markdown",
   "metadata": {},
   "source": [
    "### Importing Necessary Classes"
   ]
  },
  {
   "cell_type": "code",
   "execution_count": null,
   "metadata": {},
   "outputs": [],
   "source": [
    "# Defining needed Classes\n",
    "importer = objects.Importer()\n",
    "explorer = objects.Explorer()"
   ]
  },
  {
   "cell_type": "markdown",
   "metadata": {},
   "source": [
    "### Importing Data"
   ]
  },
  {
   "cell_type": "code",
   "execution_count": 5,
   "metadata": {},
   "outputs": [],
   "source": [
    "#importing dataset\n",
    "data = importer.import_dataset('original_dataset')\n",
    "#renaming columns\n",
    "data.rename(settings.column_rename_mapping, axis =\"columns\", inplace=True)"
   ]
  },
  {
   "cell_type": "markdown",
   "metadata": {},
   "source": [
    "## Performing EDA\n",
    "\n",
    "* In this section, we will be exploring our data and its relationship with the target variable"
   ]
  },
  {
   "cell_type": "markdown",
   "metadata": {},
   "source": [
    "### Main Info"
   ]
  },
  {
   "cell_type": "code",
   "execution_count": 9,
   "metadata": {},
   "outputs": [
    {
     "name": "stdout",
     "output_type": "stream",
     "text": [
      "dataset.info()\n",
      "<class 'pandas.core.frame.DataFrame'>\n",
      "RangeIndex: 299 entries, 0 to 298\n",
      "Data columns (total 13 columns):\n",
      "age         299 non-null float64\n",
      "anaemia     299 non-null int64\n",
      "cp          299 non-null int64\n",
      "diabetes    299 non-null int64\n",
      "ef          299 non-null int64\n",
      "hbp         299 non-null int64\n",
      "ptls        299 non-null float64\n",
      "sc          299 non-null float64\n",
      "ss          299 non-null int64\n",
      "sex         299 non-null int64\n",
      "smoking     299 non-null int64\n",
      "time        299 non-null int64\n",
      "death       299 non-null int64\n",
      "dtypes: float64(3), int64(10)\n",
      "memory usage: 30.5 KB\n",
      "None\n",
      "____________________________________________________________\n",
      "____________________________________________________________\n",
      "dataset.describe()\n",
      "              age     anaemia           cp    diabetes          ef  \\\n",
      "count  299.000000  299.000000   299.000000  299.000000  299.000000   \n",
      "mean    60.833893    0.431438   581.839465    0.418060   38.083612   \n",
      "std     11.894809    0.496107   970.287881    0.494067   11.834841   \n",
      "min     40.000000    0.000000    23.000000    0.000000   14.000000   \n",
      "25%     51.000000    0.000000   116.500000    0.000000   30.000000   \n",
      "50%     60.000000    0.000000   250.000000    0.000000   38.000000   \n",
      "75%     70.000000    1.000000   582.000000    1.000000   45.000000   \n",
      "max     95.000000    1.000000  7861.000000    1.000000   80.000000   \n",
      "\n",
      "              hbp           ptls         sc          ss         sex  \\\n",
      "count  299.000000     299.000000  299.00000  299.000000  299.000000   \n",
      "mean     0.351171  263358.029264    1.39388  136.625418    0.648829   \n",
      "std      0.478136   97804.236869    1.03451    4.412477    0.478136   \n",
      "min      0.000000   25100.000000    0.50000  113.000000    0.000000   \n",
      "25%      0.000000  212500.000000    0.90000  134.000000    0.000000   \n",
      "50%      0.000000  262000.000000    1.10000  137.000000    1.000000   \n",
      "75%      1.000000  303500.000000    1.40000  140.000000    1.000000   \n",
      "max      1.000000  850000.000000    9.40000  148.000000    1.000000   \n",
      "\n",
      "         smoking        time      death  \n",
      "count  299.00000  299.000000  299.00000  \n",
      "mean     0.32107  130.260870    0.32107  \n",
      "std      0.46767   77.614208    0.46767  \n",
      "min      0.00000    4.000000    0.00000  \n",
      "25%      0.00000   73.000000    0.00000  \n",
      "50%      0.00000  115.000000    0.00000  \n",
      "75%      1.00000  203.000000    1.00000  \n",
      "max      1.00000  285.000000    1.00000  \n",
      "____________________________________________________________\n",
      "____________________________________________________________\n",
      "dataset.head()\n",
      "    age  anaemia    cp  diabetes  ef  hbp       ptls   sc   ss  sex  smoking  \\\n",
      "0  75.0        0   582         0  20    1  265000.00  1.9  130    1        0   \n",
      "1  55.0        0  7861         0  38    0  263358.03  1.1  136    1        0   \n",
      "2  65.0        0   146         0  20    0  162000.00  1.3  129    1        1   \n",
      "3  50.0        1   111         0  20    0  210000.00  1.9  137    1        0   \n",
      "4  65.0        1   160         1  20    0  327000.00  2.7  116    0        0   \n",
      "\n",
      "   time  death  \n",
      "0     4      1  \n",
      "1     6      1  \n",
      "2     7      1  \n",
      "3     7      1  \n",
      "4     8      1  \n",
      "____________________________________________________________\n",
      "____________________________________________________________\n",
      "dataset.dtypes\n",
      "age         float64\n",
      "anaemia       int64\n",
      "cp            int64\n",
      "diabetes      int64\n",
      "ef            int64\n",
      "hbp           int64\n",
      "ptls        float64\n",
      "sc          float64\n",
      "ss            int64\n",
      "sex           int64\n",
      "smoking       int64\n",
      "time          int64\n",
      "death         int64\n",
      "dtype: object\n",
      "____________________________________________________________\n",
      "____________________________________________________________\n"
     ]
    }
   ],
   "source": [
    "explorer.main_info(data)"
   ]
  },
  {
   "cell_type": "markdown",
   "metadata": {},
   "source": [
    "* Our dataset consists only of 300 data points, so we need to take this into account later on, when chosing the algorithms to be used\n",
    "\n",
    "* There are no missing values in the dataset though. So, even if the dataset is small, we won't need to get rid of rows or perform imputations"
   ]
  },
  {
   "cell_type": "code",
   "execution_count": 14,
   "metadata": {},
   "outputs": [
    {
     "ename": "AttributeError",
     "evalue": "module 'seaborn' has no attribute 'set_theme'",
     "output_type": "error",
     "traceback": [
      "\u001b[1;31m---------------------------------------------------------------------------\u001b[0m",
      "\u001b[1;31mAttributeError\u001b[0m                            Traceback (most recent call last)",
      "\u001b[1;32m<ipython-input-14-e3223ef8a2d5>\u001b[0m in \u001b[0;36m<module>\u001b[1;34m\u001b[0m\n\u001b[1;32m----> 1\u001b[1;33m \u001b[0mexplorer\u001b[0m\u001b[1;33m.\u001b[0m\u001b[0mvisualize_distribution\u001b[0m\u001b[1;33m(\u001b[0m\u001b[0mdata\u001b[0m\u001b[1;33m[\u001b[0m\u001b[1;34m'anaemia'\u001b[0m\u001b[1;33m]\u001b[0m\u001b[1;33m)\u001b[0m\u001b[1;33m\u001b[0m\u001b[1;33m\u001b[0m\u001b[0m\n\u001b[0m",
      "\u001b[1;32mD:\\Github\\Machine_Learning_Projects\\heart_failure_prediction\\objects.py\u001b[0m in \u001b[0;36mvisualize_distribution\u001b[1;34m(self, series, source, list_of_plots)\u001b[0m\n\u001b[0;32m     45\u001b[0m \u001b[1;33m\u001b[0m\u001b[0m\n\u001b[0;32m     46\u001b[0m         \u001b[1;32mfor\u001b[0m \u001b[0mplot\u001b[0m \u001b[1;32min\u001b[0m \u001b[0mlist_of_plots\u001b[0m\u001b[1;33m:\u001b[0m\u001b[1;33m\u001b[0m\u001b[1;33m\u001b[0m\u001b[0m\n\u001b[1;32m---> 47\u001b[1;33m             \u001b[0mutils\u001b[0m\u001b[1;33m.\u001b[0m  \u001b[0mcreate_plot\u001b[0m\u001b[1;33m(\u001b[0m\u001b[0mplot\u001b[0m\u001b[1;33m,\u001b[0m \u001b[0mseries\u001b[0m\u001b[1;33m,\u001b[0m \u001b[0msource\u001b[0m\u001b[1;33m=\u001b[0m\u001b[0msource\u001b[0m\u001b[1;33m)\u001b[0m\u001b[1;33m\u001b[0m\u001b[1;33m\u001b[0m\u001b[0m\n\u001b[0m\u001b[0;32m     48\u001b[0m             \u001b[0mplt\u001b[0m\u001b[1;33m.\u001b[0m\u001b[0mshow\u001b[0m\u001b[1;33m(\u001b[0m\u001b[1;33m)\u001b[0m\u001b[1;33m\u001b[0m\u001b[1;33m\u001b[0m\u001b[0m\n\u001b[0;32m     49\u001b[0m \u001b[1;33m\u001b[0m\u001b[0m\n",
      "\u001b[1;32mD:\\Github\\Machine_Learning_Projects\\heart_failure_prediction\\utils.py\u001b[0m in \u001b[0;36mcreate_plot\u001b[1;34m(plot, series, source)\u001b[0m\n\u001b[0;32m     14\u001b[0m     \u001b[0mfig\u001b[0m\u001b[1;33m,\u001b[0m \u001b[0max\u001b[0m \u001b[1;33m=\u001b[0m \u001b[0mplt\u001b[0m\u001b[1;33m.\u001b[0m\u001b[0msubplots\u001b[0m\u001b[1;33m(\u001b[0m\u001b[1;33m)\u001b[0m\u001b[1;33m\u001b[0m\u001b[1;33m\u001b[0m\u001b[0m\n\u001b[0;32m     15\u001b[0m     \u001b[1;32mif\u001b[0m \u001b[0msource\u001b[0m \u001b[1;33m==\u001b[0m \u001b[1;34m'seaborn'\u001b[0m\u001b[1;33m:\u001b[0m\u001b[1;33m\u001b[0m\u001b[1;33m\u001b[0m\u001b[0m\n\u001b[1;32m---> 16\u001b[1;33m         \u001b[0msns\u001b[0m\u001b[1;33m.\u001b[0m\u001b[0mset_theme\u001b[0m\u001b[1;33m(\u001b[0m\u001b[0mstyle\u001b[0m\u001b[1;33m=\u001b[0m\u001b[1;34m'whitegrid'\u001b[0m\u001b[1;33m)\u001b[0m\u001b[1;33m\u001b[0m\u001b[1;33m\u001b[0m\u001b[0m\n\u001b[0m\u001b[0;32m     17\u001b[0m         plot_mapping = {'displot': 'sns.displot(x=series, ax=ax)',\n\u001b[0;32m     18\u001b[0m                         \u001b[1;34m'boxplot'\u001b[0m\u001b[1;33m:\u001b[0m \u001b[1;34m'sns.boxplot(y=series, ax=ax)'\u001b[0m\u001b[1;33m,\u001b[0m\u001b[1;33m\u001b[0m\u001b[1;33m\u001b[0m\u001b[0m\n",
      "\u001b[1;31mAttributeError\u001b[0m: module 'seaborn' has no attribute 'set_theme'"
     ]
    },
    {
     "data": {
      "image/png": "[encoded data removed]",
      "text/plain": [
       "<Figure size 432x288 with 1 Axes>"
      ]
     },
     "metadata": {
      "needs_background": "light"
     },
     "output_type": "display_data"
    }
   ],
   "source": [
    "explorer.visualize_distribution(data['anaemia'])"
   ]
  }
 ],
 "metadata": {
  "kernelspec": {
   "display_name": "Python 3",
   "language": "python",
   "name": "python3"
  },
  "language_info": {
   "codemirror_mode": {
    "name": "ipython",
    "version": 3
   },
   "file_extension": ".py",
   "mimetype": "text/x-python",
   "name": "python",
   "nbconvert_exporter": "python",
   "pygments_lexer": "ipython3",
   "version": "3.7.4"
  }
 },
 "nbformat": 4,
 "nbformat_minor": 2
}

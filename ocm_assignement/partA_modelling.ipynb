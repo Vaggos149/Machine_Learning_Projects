{
 "cells": [
  {
   "cell_type": "code",
   "execution_count": 1,
   "id": "e85eb82b",
   "metadata": {},
   "outputs": [],
   "source": [
    "from sklearn.metrics import classification_report, accuracy_score"
   ]
  },
  {
   "cell_type": "markdown",
   "id": "c8c471eb",
   "metadata": {},
   "source": [
    "* Running Dependencies"
   ]
  },
  {
   "cell_type": "code",
   "execution_count": 2,
   "id": "c3400356",
   "metadata": {},
   "outputs": [],
   "source": [
    "%run partA_utilities.ipynb"
   ]
  },
  {
   "cell_type": "markdown",
   "id": "9905f291",
   "metadata": {},
   "source": [
    "* Defining Mode and creating directory"
   ]
  },
  {
   "cell_type": "code",
   "execution_count": 3,
   "id": "18335144",
   "metadata": {},
   "outputs": [
    {
     "name": "stdout",
     "output_type": "stream",
     "text": [
      "Directory for mode: prd already exists\n"
     ]
    }
   ],
   "source": [
    "mode = \"prd\"\n",
    "\n",
    "make_mode_file(mode)"
   ]
  },
  {
   "cell_type": "markdown",
   "id": "597060f5",
   "metadata": {},
   "source": [
    "* Defining Settings"
   ]
  },
  {
   "cell_type": "code",
   "execution_count": 4,
   "id": "46ff617b",
   "metadata": {},
   "outputs": [],
   "source": [
    "settings = Settings(mode = mode)"
   ]
  },
  {
   "cell_type": "markdown",
   "id": "ae25522c",
   "metadata": {},
   "source": [
    "* Input Data"
   ]
  },
  {
   "cell_type": "code",
   "execution_count": 5,
   "id": "9c0e13d2",
   "metadata": {},
   "outputs": [],
   "source": [
    "X_train = pd.read_csv(settings.mode_path + '/X_train.csv', index_col=0)\n",
    "X_val = pd.read_csv(settings.mode_path + '/X_val.csv', index_col=0)\n",
    "y_train = pd.read_csv(settings.mode_path + '/y_train.csv', index_col=0)\n",
    "y_val = pd.read_csv(settings.mode_path + '/y_val.csv', index_col=0)"
   ]
  },
  {
   "cell_type": "markdown",
   "id": "ea2a3299",
   "metadata": {},
   "source": [
    "* Transforming List of String Columns back to Arrays"
   ]
  },
  {
   "cell_type": "code",
   "execution_count": 6,
   "id": "90781e6d",
   "metadata": {},
   "outputs": [],
   "source": [
    "X_train = transform_dataframe_list_columns_to_arrays(X_train, \n",
    "                                                     list_of_string_cols = [\"title\", \n",
    "                                                                            \"content\", \n",
    "                                                                            \"site_title\", \n",
    "                                                                            \"theme\"]\n",
    "                                                    )\n",
    "\n",
    "X_val = transform_dataframe_list_columns_to_arrays(X_val, \n",
    "                                                   list_of_string_cols = [\"title\", \n",
    "                                                                          \"content\", \n",
    "                                                                          \"site_title\", \n",
    "                                                                          \"theme\"]\n",
    "                                                    )"
   ]
  },
  {
   "cell_type": "markdown",
   "id": "364242d4",
   "metadata": {},
   "source": [
    "* Define Models (Baseline and Actual Modelling Approach)"
   ]
  },
  {
   "cell_type": "code",
   "execution_count": 7,
   "id": "9b0510e6",
   "metadata": {},
   "outputs": [],
   "source": [
    "dummy_classifier = DummyBaseline(mode, \n",
    "                                 X_train=X_train,\n",
    "                                 X_val=X_val,\n",
    "                                 y_train=y_train,\n",
    "                                 y_val=y_val,\n",
    "                                 settings=settings)\n",
    "\n",
    "single_feat_dt_classifier = SingleFeatureDecisionTreeBaseline(mode, \n",
    "                                                              X_train=pd.DataFrame(X_train[\"site_title\"].to_list()),\n",
    "                                                              X_val=pd.DataFrame(X_val[\"site_title\"].to_list()),\n",
    "                                                              y_train=y_train,\n",
    "                                                              y_val=y_val,\n",
    "                                                              settings=settings\n",
    "                                                             )\n",
    "\n",
    "\n",
    "multi_dense_dl = MultiInputDenseDL(mode, \n",
    "                                   X_train=X_train,\n",
    "                                   X_val=X_val,\n",
    "                                   y_train=y_train,\n",
    "                                   y_val=y_val,\n",
    "                                   settings=settings\n",
    "                                   )"
   ]
  },
  {
   "cell_type": "markdown",
   "id": "7fdb5b30",
   "metadata": {},
   "source": [
    "* Run Models"
   ]
  },
  {
   "cell_type": "code",
   "execution_count": 8,
   "id": "1d13f305",
   "metadata": {},
   "outputs": [
    {
     "name": "stdout",
     "output_type": "stream",
     "text": [
      "Epoch 1/100\n",
      "11/11 [==============================] - 2s 76ms/step - loss: 1.8732 - accuracy: 0.5112 - val_loss: 0.7465 - val_accuracy: 0.8090\n",
      "Epoch 2/100\n",
      "11/11 [==============================] - 1s 49ms/step - loss: 0.6181 - accuracy: 0.8281 - val_loss: 0.4585 - val_accuracy: 0.8567\n",
      "Epoch 3/100\n",
      "11/11 [==============================] - 1s 55ms/step - loss: 0.3383 - accuracy: 0.9028 - val_loss: 0.4086 - val_accuracy: 0.8776\n",
      "Epoch 4/100\n",
      "11/11 [==============================] - 1s 52ms/step - loss: 0.2417 - accuracy: 0.9283 - val_loss: 0.3397 - val_accuracy: 0.8836\n",
      "Epoch 5/100\n",
      "11/11 [==============================] - 1s 50ms/step - loss: 0.1978 - accuracy: 0.9402 - val_loss: 0.3380 - val_accuracy: 0.8896\n",
      "Epoch 6/100\n",
      "11/11 [==============================] - 1s 49ms/step - loss: 0.1482 - accuracy: 0.9492 - val_loss: 0.3143 - val_accuracy: 0.9015\n",
      "Epoch 7/100\n",
      "11/11 [==============================] - 1s 52ms/step - loss: 0.0973 - accuracy: 0.9761 - val_loss: 0.2966 - val_accuracy: 0.8955\n",
      "Epoch 8/100\n",
      "11/11 [==============================] - 1s 49ms/step - loss: 0.0676 - accuracy: 0.9888 - val_loss: 0.3022 - val_accuracy: 0.9164\n",
      "Epoch 9/100\n",
      "11/11 [==============================] - 1s 50ms/step - loss: 0.0615 - accuracy: 0.9895 - val_loss: 0.3093 - val_accuracy: 0.9134\n",
      "Epoch 10/100\n",
      "11/11 [==============================] - 1s 49ms/step - loss: 0.0414 - accuracy: 0.9940 - val_loss: 0.3320 - val_accuracy: 0.9104\n",
      "Epoch 11/100\n",
      "11/11 [==============================] - 1s 48ms/step - loss: 0.0421 - accuracy: 0.9940 - val_loss: 0.3245 - val_accuracy: 0.9015\n",
      "Epoch 12/100\n",
      "11/11 [==============================] - 1s 51ms/step - loss: 0.0373 - accuracy: 0.9918 - val_loss: 0.3002 - val_accuracy: 0.9194\n",
      "Epoch 13/100\n",
      "11/11 [==============================] - 1s 49ms/step - loss: 0.0338 - accuracy: 0.9933 - val_loss: 0.3317 - val_accuracy: 0.9104\n",
      "Epoch 14/100\n",
      "11/11 [==============================] - 1s 51ms/step - loss: 0.0473 - accuracy: 0.9873 - val_loss: 0.3586 - val_accuracy: 0.9045\n",
      "Epoch 15/100\n",
      "11/11 [==============================] - 1s 49ms/step - loss: 0.0242 - accuracy: 0.9955 - val_loss: 0.3546 - val_accuracy: 0.9104\n",
      "Epoch 16/100\n",
      "11/11 [==============================] - 1s 49ms/step - loss: 0.0208 - accuracy: 0.9985 - val_loss: 0.3092 - val_accuracy: 0.9224\n",
      "Epoch 17/100\n",
      "11/11 [==============================] - 1s 52ms/step - loss: 0.0138 - accuracy: 0.9993 - val_loss: 0.3253 - val_accuracy: 0.9224\n",
      "Epoch 18/100\n",
      "11/11 [==============================] - 1s 52ms/step - loss: 0.0121 - accuracy: 0.9993 - val_loss: 0.3162 - val_accuracy: 0.9164\n",
      "Epoch 19/100\n",
      "11/11 [==============================] - 1s 49ms/step - loss: 0.0100 - accuracy: 1.0000 - val_loss: 0.3283 - val_accuracy: 0.9164\n",
      "Epoch 20/100\n",
      "11/11 [==============================] - 1s 51ms/step - loss: 0.0079 - accuracy: 1.0000 - val_loss: 0.3269 - val_accuracy: 0.9164\n",
      "Epoch 21/100\n",
      "11/11 [==============================] - 1s 68ms/step - loss: 0.0066 - accuracy: 1.0000 - val_loss: 0.3196 - val_accuracy: 0.9164\n",
      "Epoch 22/100\n",
      "11/11 [==============================] - 1s 48ms/step - loss: 0.0069 - accuracy: 1.0000 - val_loss: 0.3075 - val_accuracy: 0.9194\n",
      "Epoch 23/100\n",
      "11/11 [==============================] - 1s 49ms/step - loss: 0.0060 - accuracy: 1.0000 - val_loss: 0.3218 - val_accuracy: 0.9224\n",
      "Epoch 24/100\n",
      "11/11 [==============================] - 1s 49ms/step - loss: 0.0051 - accuracy: 1.0000 - val_loss: 0.3274 - val_accuracy: 0.9194\n",
      "Epoch 25/100\n",
      "11/11 [==============================] - 1s 54ms/step - loss: 0.0057 - accuracy: 1.0000 - val_loss: 0.3236 - val_accuracy: 0.9224\n",
      "Epoch 26/100\n",
      "11/11 [==============================] - 1s 50ms/step - loss: 0.0046 - accuracy: 1.0000 - val_loss: 0.3268 - val_accuracy: 0.9194\n",
      "Epoch 27/100\n",
      "11/11 [==============================] - 1s 48ms/step - loss: 0.0044 - accuracy: 1.0000 - val_loss: 0.3309 - val_accuracy: 0.9194\n",
      "Epoch 28/100\n",
      "11/11 [==============================] - 1s 54ms/step - loss: 0.0038 - accuracy: 1.0000 - val_loss: 0.3367 - val_accuracy: 0.9224\n",
      "Epoch 29/100\n",
      "11/11 [==============================] - 1s 49ms/step - loss: 0.0036 - accuracy: 1.0000 - val_loss: 0.3389 - val_accuracy: 0.9194\n",
      "Epoch 30/100\n",
      "11/11 [==============================] - 1s 50ms/step - loss: 0.0035 - accuracy: 1.0000 - val_loss: 0.3377 - val_accuracy: 0.9194\n",
      "Epoch 31/100\n",
      "11/11 [==============================] - 1s 52ms/step - loss: 0.0034 - accuracy: 1.0000 - val_loss: 0.3301 - val_accuracy: 0.9254\n",
      "Epoch 32/100\n",
      "11/11 [==============================] - 1s 49ms/step - loss: 0.0032 - accuracy: 1.0000 - val_loss: 0.3319 - val_accuracy: 0.9194\n",
      "Epoch 33/100\n",
      "11/11 [==============================] - 1s 52ms/step - loss: 0.0037 - accuracy: 0.9993 - val_loss: 0.3443 - val_accuracy: 0.9194\n",
      "Epoch 34/100\n",
      "11/11 [==============================] - 1s 51ms/step - loss: 0.0039 - accuracy: 0.9993 - val_loss: 0.3418 - val_accuracy: 0.9164\n",
      "Epoch 35/100\n",
      "11/11 [==============================] - 1s 49ms/step - loss: 0.0030 - accuracy: 1.0000 - val_loss: 0.3447 - val_accuracy: 0.9224\n",
      "Epoch 36/100\n",
      "11/11 [==============================] - 1s 50ms/step - loss: 0.0028 - accuracy: 1.0000 - val_loss: 0.3483 - val_accuracy: 0.9194\n",
      "Epoch 37/100\n",
      "11/11 [==============================] - 1s 51ms/step - loss: 0.0025 - accuracy: 1.0000 - val_loss: 0.3501 - val_accuracy: 0.9194\n",
      "Epoch 38/100\n",
      "11/11 [==============================] - 1s 49ms/step - loss: 0.0025 - accuracy: 1.0000 - val_loss: 0.3482 - val_accuracy: 0.9164\n",
      "Epoch 39/100\n",
      "11/11 [==============================] - 1s 50ms/step - loss: 0.0022 - accuracy: 1.0000 - val_loss: 0.3472 - val_accuracy: 0.9164\n",
      "Epoch 40/100\n",
      "11/11 [==============================] - 1s 53ms/step - loss: 0.0022 - accuracy: 1.0000 - val_loss: 0.3491 - val_accuracy: 0.9164\n",
      "Epoch 41/100\n",
      "11/11 [==============================] - 1s 53ms/step - loss: 0.0021 - accuracy: 1.0000 - val_loss: 0.3565 - val_accuracy: 0.9164\n",
      "Epoch 42/100\n",
      "11/11 [==============================] - 1s 51ms/step - loss: 0.0019 - accuracy: 1.0000 - val_loss: 0.3512 - val_accuracy: 0.9194\n",
      "Epoch 43/100\n",
      "11/11 [==============================] - 1s 49ms/step - loss: 0.0019 - accuracy: 1.0000 - val_loss: 0.3516 - val_accuracy: 0.9194\n",
      "Epoch 44/100\n",
      "11/11 [==============================] - 1s 52ms/step - loss: 0.0018 - accuracy: 1.0000 - val_loss: 0.3510 - val_accuracy: 0.9224\n",
      "Epoch 45/100\n",
      "11/11 [==============================] - 1s 50ms/step - loss: 0.0018 - accuracy: 1.0000 - val_loss: 0.3542 - val_accuracy: 0.9254\n",
      "Epoch 46/100\n",
      "11/11 [==============================] - 1s 51ms/step - loss: 0.0017 - accuracy: 1.0000 - val_loss: 0.3568 - val_accuracy: 0.9194\n",
      "Epoch 47/100\n",
      "11/11 [==============================] - 1s 50ms/step - loss: 0.0015 - accuracy: 1.0000 - val_loss: 0.3558 - val_accuracy: 0.9164\n",
      "Epoch 48/100\n",
      "11/11 [==============================] - 1s 50ms/step - loss: 0.0015 - accuracy: 1.0000 - val_loss: 0.3542 - val_accuracy: 0.9164\n",
      "Epoch 49/100\n",
      "11/11 [==============================] - 1s 51ms/step - loss: 0.0015 - accuracy: 1.0000 - val_loss: 0.3583 - val_accuracy: 0.9224\n",
      "Epoch 50/100\n",
      "11/11 [==============================] - 1s 51ms/step - loss: 0.0014 - accuracy: 1.0000 - val_loss: 0.3600 - val_accuracy: 0.9224\n",
      "Epoch 51/100\n",
      "11/11 [==============================] - 1s 50ms/step - loss: 0.0015 - accuracy: 1.0000 - val_loss: 0.3617 - val_accuracy: 0.9194\n",
      "26/26 [==============================] - 0s 3ms/step\n"
     ]
    }
   ],
   "source": [
    "dummy_classifier.execute_pipeline()\n",
    "single_feat_dt_classifier.execute_pipeline()\n",
    "multi_dense_dl.execute_pipeline()"
   ]
  },
  {
   "cell_type": "markdown",
   "id": "40f3681f",
   "metadata": {},
   "source": [
    "* Evaluate on the Validation set"
   ]
  },
  {
   "cell_type": "code",
   "execution_count": 9,
   "id": "f1775352",
   "metadata": {},
   "outputs": [],
   "source": [
    "dummy_val_prds = pd.read_csv(settings.mode_path + '/dummy_classifier_val_predictions.csv',\n",
    "                            index_col = 0)\n",
    "\n",
    "dec_tree_val_preds = pd.read_csv(settings.mode_path + '/decision_tree_val_predictions.csv',\n",
    "                                 index_col = 0)\n",
    "\n",
    "dl_val_preds = pd.read_csv(settings.mode_path + '/multi_dense_val_predictions.csv',\n",
    "                            index_col = 0)"
   ]
  },
  {
   "cell_type": "code",
   "execution_count": 10,
   "id": "d534f0b1",
   "metadata": {},
   "outputs": [
    {
     "name": "stdout",
     "output_type": "stream",
     "text": [
      "Accuracy Score and Classification Report of dummy classifier\n",
      "0.05090909090909091\n",
      "              precision    recall  f1-score   support\n",
      "\n",
      "           0       0.00      0.00      0.00        15\n",
      "           1       0.03      0.04      0.03        24\n",
      "           2       0.04      0.15      0.07        13\n",
      "           3       0.00      0.00      0.00        38\n",
      "           4       0.00      0.00      0.00        83\n",
      "           5       0.09      0.04      0.05       103\n",
      "           6       0.03      0.07      0.04        15\n",
      "           7       0.06      0.08      0.07        25\n",
      "           8       0.03      0.11      0.05         9\n",
      "           9       0.09      0.07      0.08        56\n",
      "          10       0.00      0.00      0.00        16\n",
      "          11       0.04      0.09      0.06        23\n",
      "          12       0.05      0.12      0.07        17\n",
      "          13       0.04      0.11      0.06        19\n",
      "          14       0.06      0.05      0.05        40\n",
      "          15       0.14      0.05      0.08        98\n",
      "          16       0.16      0.07      0.10       113\n",
      "          17       0.06      0.09      0.07        32\n",
      "          18       0.09      0.05      0.07        59\n",
      "          19       0.00      0.00      0.00        15\n",
      "          20       0.00      0.00      0.00        12\n",
      "\n",
      "    accuracy                           0.05       825\n",
      "   macro avg       0.05      0.06      0.04       825\n",
      "weighted avg       0.08      0.05      0.05       825\n",
      "\n",
      "================================================\n",
      "Accuracy Score and Classification Report of single feature dec tree classifier\n",
      "0.27151515151515154\n",
      "              precision    recall  f1-score   support\n",
      "\n",
      "           0       1.00      0.80      0.89        15\n",
      "           1       0.00      0.00      0.00        24\n",
      "           2       0.00      0.00      0.00        13\n",
      "           3       0.71      0.13      0.22        38\n",
      "           4       0.00      0.00      0.00        83\n",
      "           5       0.15      0.97      0.26       103\n",
      "           6       1.00      1.00      1.00        15\n",
      "           7       1.00      0.28      0.44        25\n",
      "           8       0.42      0.56      0.48         9\n",
      "           9       0.74      0.30      0.43        56\n",
      "          10       1.00      0.12      0.22        16\n",
      "          11       0.67      0.17      0.28        23\n",
      "          12       0.80      0.47      0.59        17\n",
      "          13       0.00      0.00      0.00        19\n",
      "          14       0.90      0.65      0.75        40\n",
      "          15       0.00      0.00      0.00        98\n",
      "          16       0.00      0.00      0.00       113\n",
      "          17       0.67      0.12      0.21        32\n",
      "          18       1.00      0.32      0.49        59\n",
      "          19       0.00      0.00      0.00        15\n",
      "          20       0.00      0.00      0.00        12\n",
      "\n",
      "    accuracy                           0.27       825\n",
      "   macro avg       0.48      0.28      0.30       825\n",
      "weighted avg       0.37      0.27      0.23       825\n",
      "\n",
      "================================================\n",
      "Accuracy Score and Classification Report of actual DL modeling approach\n",
      "0.8993939393939394\n",
      "              precision    recall  f1-score   support\n",
      "\n",
      "           0       1.00      1.00      1.00        15\n",
      "           1       0.94      0.62      0.75        24\n",
      "           2       1.00      0.77      0.87        13\n",
      "           3       0.85      0.87      0.86        38\n",
      "           4       0.88      0.99      0.93        83\n",
      "           5       0.86      0.96      0.91       103\n",
      "           6       1.00      1.00      1.00        15\n",
      "           7       0.81      0.84      0.82        25\n",
      "           8       0.69      1.00      0.82         9\n",
      "           9       0.85      0.91      0.88        56\n",
      "          10       0.74      0.88      0.80        16\n",
      "          11       0.94      0.74      0.83        23\n",
      "          12       1.00      0.94      0.97        17\n",
      "          13       0.94      0.79      0.86        19\n",
      "          14       0.93      1.00      0.96        40\n",
      "          15       0.87      0.90      0.88        98\n",
      "          16       0.95      0.88      0.92       113\n",
      "          17       1.00      0.78      0.88        32\n",
      "          18       0.97      0.98      0.97        59\n",
      "          19       1.00      0.67      0.80        15\n",
      "          20       0.90      0.75      0.82        12\n",
      "\n",
      "    accuracy                           0.90       825\n",
      "   macro avg       0.91      0.87      0.88       825\n",
      "weighted avg       0.91      0.90      0.90       825\n",
      "\n"
     ]
    },
    {
     "name": "stderr",
     "output_type": "stream",
     "text": [
      "C:\\Users\\vaggo\\anaconda3\\envs\\gpu\\Lib\\site-packages\\sklearn\\metrics\\_classification.py:1469: UndefinedMetricWarning: Precision and F-score are ill-defined and being set to 0.0 in labels with no predicted samples. Use `zero_division` parameter to control this behavior.\n",
      "  _warn_prf(average, modifier, msg_start, len(result))\n",
      "C:\\Users\\vaggo\\anaconda3\\envs\\gpu\\Lib\\site-packages\\sklearn\\metrics\\_classification.py:1469: UndefinedMetricWarning: Precision and F-score are ill-defined and being set to 0.0 in labels with no predicted samples. Use `zero_division` parameter to control this behavior.\n",
      "  _warn_prf(average, modifier, msg_start, len(result))\n",
      "C:\\Users\\vaggo\\anaconda3\\envs\\gpu\\Lib\\site-packages\\sklearn\\metrics\\_classification.py:1469: UndefinedMetricWarning: Precision and F-score are ill-defined and being set to 0.0 in labels with no predicted samples. Use `zero_division` parameter to control this behavior.\n",
      "  _warn_prf(average, modifier, msg_start, len(result))\n"
     ]
    }
   ],
   "source": [
    "print(\"Accuracy Score and Classification Report of dummy classifier\")\n",
    "print(accuracy_score(y_val,dummy_val_prds))\n",
    "print(classification_report(y_val,dummy_val_prds))\n",
    "print(\"================================================\")\n",
    "print(\"Accuracy Score and Classification Report of single feature dec tree classifier\")\n",
    "print(accuracy_score(y_val,dec_tree_val_preds))\n",
    "print(classification_report(y_val,dec_tree_val_preds))\n",
    "print(\"================================================\")\n",
    "print(\"Accuracy Score and Classification Report of actual DL modeling approach\")\n",
    "print(accuracy_score(y_val,dl_val_preds))\n",
    "print(classification_report(y_val,dl_val_preds))"
   ]
  },
  {
   "cell_type": "markdown",
   "id": "5467fd37",
   "metadata": {},
   "source": [
    "* We can see that the validation results of the DL approach is ~0.9, which is quite encouraging!\n",
    "\n",
    "* The current model is saved and will be used to predict on the test set\n",
    "\n",
    "* Below, we provide the mapping of labels and label_encodings for reference"
   ]
  },
  {
   "cell_type": "code",
   "execution_count": 11,
   "id": "a6190123",
   "metadata": {},
   "outputs": [
    {
     "name": "stdout",
     "output_type": "stream",
     "text": [
      "        original_label_col  label\n",
      "522              Astrology      0\n",
      "600            Attractions      1\n",
      "259             Automotive      2\n",
      "560                 Beauty      3\n",
      "377       Business&Finance      4\n",
      "363                Culture      5\n",
      "268              Education      6\n",
      "538   Family&Relationships      7\n",
      "38              Food&Drink      8\n",
      "584         Healthy Living      9\n",
      "88             Home&Garden     10\n",
      "579               Politics     11\n",
      "19             Pop Culture     12\n",
      "503  Religion&Spirituality     13\n",
      "517                Science     14\n",
      "558       Sensitive Topics     15\n",
      "95                  Sports     16\n",
      "592          Style&Fashion     17\n",
      "244         Tech&Computing     18\n",
      "643                 Travel     19\n",
      "573         Viral Articles     20\n"
     ]
    }
   ],
   "source": [
    "label_mapping_dataframe = pd.read_csv(settings.mode_path + '/label_mapping_dataframe.csv',\n",
    "                                     index_col=0)\n",
    "\n",
    "print(label_mapping_dataframe)"
   ]
  }
 ],
 "metadata": {
  "kernelspec": {
   "display_name": "Python 3",
   "language": "python",
   "name": "python3"
  },
  "language_info": {
   "codemirror_mode": {
    "name": "ipython",
    "version": 3
   },
   "file_extension": ".py",
   "mimetype": "text/x-python",
   "name": "python",
   "nbconvert_exporter": "python",
   "pygments_lexer": "ipython3",
   "version": "3.7.9"
  }
 },
 "nbformat": 4,
 "nbformat_minor": 5
}

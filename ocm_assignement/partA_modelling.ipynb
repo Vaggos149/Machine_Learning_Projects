{
 "cells": [
  {
   "cell_type": "code",
   "execution_count": 1,
   "id": "01c25ee9",
   "metadata": {},
   "outputs": [],
   "source": [
    "from sklearn.metrics import classification_report, accuracy_score"
   ]
  },
  {
   "cell_type": "markdown",
   "id": "ef0f30a5",
   "metadata": {},
   "source": [
    "* Running Dependencies"
   ]
  },
  {
   "cell_type": "code",
   "execution_count": 12,
   "id": "31d89077",
   "metadata": {},
   "outputs": [],
   "source": [
    "%run partA_utilities.ipynb"
   ]
  },
  {
   "cell_type": "markdown",
   "id": "cdbbfccb",
   "metadata": {},
   "source": [
    "* Defining Mode and creating directory"
   ]
  },
  {
   "cell_type": "code",
   "execution_count": 3,
   "id": "a552b60d",
   "metadata": {},
   "outputs": [
    {
     "name": "stdout",
     "output_type": "stream",
     "text": [
      "Directory for mode: prd already exists\n"
     ]
    }
   ],
   "source": [
    "mode = \"prd\"\n",
    "\n",
    "make_mode_file(mode)"
   ]
  },
  {
   "cell_type": "markdown",
   "id": "dd4ae024",
   "metadata": {},
   "source": [
    "* Defining Settings"
   ]
  },
  {
   "cell_type": "code",
   "execution_count": 4,
   "id": "452e5711",
   "metadata": {},
   "outputs": [],
   "source": [
    "settings = Settings(mode = mode)"
   ]
  },
  {
   "cell_type": "markdown",
   "id": "92dc5750",
   "metadata": {},
   "source": [
    "* Input Data"
   ]
  },
  {
   "cell_type": "code",
   "execution_count": 5,
   "id": "a2916fd7",
   "metadata": {},
   "outputs": [],
   "source": [
    "X_train = pd.read_csv(settings.sources_sinks_path + '/X_train.csv', index_col=0)\n",
    "X_val = pd.read_csv(settings.sources_sinks_path + '/X_val.csv', index_col=0)\n",
    "y_train = pd.read_csv(settings.sources_sinks_path + '/y_train.csv', index_col=0)\n",
    "y_val = pd.read_csv(settings.sources_sinks_path + '/y_val.csv', index_col=0)"
   ]
  },
  {
   "cell_type": "markdown",
   "id": "1379cb48",
   "metadata": {},
   "source": [
    "* Transforming List of String Columns back to Arrays"
   ]
  },
  {
   "cell_type": "code",
   "execution_count": 6,
   "id": "300ba624",
   "metadata": {},
   "outputs": [],
   "source": [
    "X_train = transform_dataframe_list_columns_to_arrays(X_train, \n",
    "                                                     list_of_string_cols = [\"title\", \n",
    "                                                                            \"content\", \n",
    "                                                                            \"site_title\", \n",
    "                                                                            \"theme\"]\n",
    "                                                    )\n",
    "\n",
    "X_val = transform_dataframe_list_columns_to_arrays(X_val, \n",
    "                                                   list_of_string_cols = [\"title\", \n",
    "                                                                          \"content\", \n",
    "                                                                          \"site_title\", \n",
    "                                                                          \"theme\"]\n",
    "                                                    )"
   ]
  },
  {
   "cell_type": "markdown",
   "id": "b6524f85",
   "metadata": {},
   "source": [
    "* Define Models (Baseline and Actual Modelling Approach)"
   ]
  },
  {
   "cell_type": "code",
   "execution_count": 7,
   "id": "b19e70ee",
   "metadata": {},
   "outputs": [],
   "source": [
    "dummy_classifier = DummyBaseline(mode, \n",
    "                                 X_train=X_train,\n",
    "                                 X_val=X_val,\n",
    "                                 y_train=y_train,\n",
    "                                 y_val=y_val,\n",
    "                                 settings=settings)\n",
    "\n",
    "single_feat_dt_classifier = SingleFeatureDecisionTreeBaseline(mode, \n",
    "                                                              X_train=pd.DataFrame(X_train[\"site_title\"].to_list()),\n",
    "                                                              X_val=pd.DataFrame(X_val[\"site_title\"].to_list()),\n",
    "                                                              y_train=y_train,\n",
    "                                                              y_val=y_val,\n",
    "                                                              settings=settings\n",
    "                                                             )\n",
    "\n",
    "\n",
    "multi_dense_dl = MultiInputDenseDL(mode, \n",
    "                                   X_train=X_train,\n",
    "                                   X_val=X_val,\n",
    "                                   y_train=y_train,\n",
    "                                   y_val=y_val,\n",
    "                                   settings=settings\n",
    "                                   )"
   ]
  },
  {
   "cell_type": "markdown",
   "id": "bd72c3d5",
   "metadata": {},
   "source": [
    "* Run Models"
   ]
  },
  {
   "cell_type": "code",
   "execution_count": null,
   "id": "34524746",
   "metadata": {},
   "outputs": [
    {
     "name": "stdout",
     "output_type": "stream",
     "text": [
      "Epoch 1/100\n",
      "11/11 [==============================] - 2s 75ms/step - loss: 1.7420 - accuracy: 0.5613 - val_loss: 0.7259 - val_accuracy: 0.8090\n",
      "Epoch 2/100\n",
      "11/11 [==============================] - 1s 49ms/step - loss: 0.5746 - accuracy: 0.8408 - val_loss: 0.4581 - val_accuracy: 0.8687\n",
      "Epoch 3/100\n",
      "11/11 [==============================] - 1s 49ms/step - loss: 0.3583 - accuracy: 0.8894 - val_loss: 0.3943 - val_accuracy: 0.8836\n",
      "Epoch 4/100\n",
      "11/11 [==============================] - 1s 51ms/step - loss: 0.2272 - accuracy: 0.9305 - val_loss: 0.3567 - val_accuracy: 0.8896\n",
      "Epoch 5/100\n",
      "11/11 [==============================] - 1s 48ms/step - loss: 0.1864 - accuracy: 0.9439 - val_loss: 0.3544 - val_accuracy: 0.8866\n",
      "Epoch 6/100\n",
      "11/11 [==============================] - 1s 50ms/step - loss: 0.1173 - accuracy: 0.9731 - val_loss: 0.3252 - val_accuracy: 0.8985\n",
      "Epoch 7/100\n",
      "11/11 [==============================] - 1s 49ms/step - loss: 0.0844 - accuracy: 0.9776 - val_loss: 0.3525 - val_accuracy: 0.8985\n",
      "Epoch 8/100\n",
      "11/11 [==============================] - 1s 50ms/step - loss: 0.0686 - accuracy: 0.9858 - val_loss: 0.3529 - val_accuracy: 0.8866\n",
      "Epoch 9/100\n",
      "11/11 [==============================] - 1s 50ms/step - loss: 0.0585 - accuracy: 0.9918 - val_loss: 0.3264 - val_accuracy: 0.8955\n",
      "Epoch 10/100\n",
      "11/11 [==============================] - 1s 49ms/step - loss: 0.0408 - accuracy: 0.9948 - val_loss: 0.3392 - val_accuracy: 0.8985\n",
      "Epoch 11/100\n",
      "11/11 [==============================] - 1s 53ms/step - loss: 0.0362 - accuracy: 0.9963 - val_loss: 0.3243 - val_accuracy: 0.9045\n",
      "Epoch 12/100\n",
      "11/11 [==============================] - 1s 50ms/step - loss: 0.0273 - accuracy: 0.9978 - val_loss: 0.3353 - val_accuracy: 0.9134\n",
      "Epoch 13/100\n",
      "11/11 [==============================] - 1s 50ms/step - loss: 0.0224 - accuracy: 0.9993 - val_loss: 0.3233 - val_accuracy: 0.9015\n",
      "Epoch 14/100\n",
      "11/11 [==============================] - 1s 50ms/step - loss: 0.0211 - accuracy: 0.9985 - val_loss: 0.3313 - val_accuracy: 0.9164\n",
      "Epoch 15/100\n",
      "11/11 [==============================] - 1s 50ms/step - loss: 0.0173 - accuracy: 1.0000 - val_loss: 0.3301 - val_accuracy: 0.9075\n",
      "Epoch 16/100\n",
      "11/11 [==============================] - 1s 50ms/step - loss: 0.0135 - accuracy: 1.0000 - val_loss: 0.3486 - val_accuracy: 0.9134\n",
      "Epoch 17/100\n",
      "11/11 [==============================] - 1s 51ms/step - loss: 0.0148 - accuracy: 0.9985 - val_loss: 0.3442 - val_accuracy: 0.9164\n",
      "Epoch 18/100\n",
      "11/11 [==============================] - 1s 52ms/step - loss: 0.0114 - accuracy: 1.0000 - val_loss: 0.3383 - val_accuracy: 0.9075\n",
      "Epoch 19/100\n",
      "11/11 [==============================] - 1s 48ms/step - loss: 0.0105 - accuracy: 0.9993 - val_loss: 0.3664 - val_accuracy: 0.9194\n",
      "Epoch 20/100\n",
      "11/11 [==============================] - 1s 51ms/step - loss: 0.0098 - accuracy: 1.0000 - val_loss: 0.3488 - val_accuracy: 0.9104\n",
      "Epoch 21/100\n",
      "11/11 [==============================] - 1s 47ms/step - loss: 0.0082 - accuracy: 0.9993 - val_loss: 0.3553 - val_accuracy: 0.9164\n",
      "Epoch 22/100\n",
      "11/11 [==============================] - 1s 50ms/step - loss: 0.0066 - accuracy: 1.0000 - val_loss: 0.3513 - val_accuracy: 0.9134\n",
      "Epoch 23/100\n",
      "11/11 [==============================] - 1s 47ms/step - loss: 0.0086 - accuracy: 1.0000 - val_loss: 0.3847 - val_accuracy: 0.9104\n",
      "Epoch 24/100\n",
      "11/11 [==============================] - 1s 51ms/step - loss: 0.0071 - accuracy: 0.9993 - val_loss: 0.3727 - val_accuracy: 0.9015\n",
      "Epoch 25/100\n",
      "11/11 [==============================] - 1s 47ms/step - loss: 0.0057 - accuracy: 1.0000 - val_loss: 0.3830 - val_accuracy: 0.9104\n",
      "Epoch 26/100\n",
      "11/11 [==============================] - 1s 49ms/step - loss: 0.0047 - accuracy: 1.0000 - val_loss: 0.3693 - val_accuracy: 0.9104\n",
      "Epoch 27/100\n",
      "11/11 [==============================] - 1s 47ms/step - loss: 0.0043 - accuracy: 1.0000 - val_loss: 0.3585 - val_accuracy: 0.9134\n",
      "Epoch 28/100\n",
      "11/11 [==============================] - 1s 51ms/step - loss: 0.0041 - accuracy: 1.0000 - val_loss: 0.3646 - val_accuracy: 0.9164\n",
      "Epoch 29/100\n",
      "11/11 [==============================] - 1s 47ms/step - loss: 0.0037 - accuracy: 1.0000 - val_loss: 0.3808 - val_accuracy: 0.9045\n",
      "Epoch 30/100\n",
      "11/11 [==============================] - 1s 53ms/step - loss: 0.0033 - accuracy: 1.0000 - val_loss: 0.3778 - val_accuracy: 0.9134\n",
      "Epoch 31/100\n",
      "11/11 [==============================] - 1s 51ms/step - loss: 0.0032 - accuracy: 1.0000 - val_loss: 0.3667 - val_accuracy: 0.9104\n",
      "Epoch 32/100\n",
      "11/11 [==============================] - 1s 47ms/step - loss: 0.0031 - accuracy: 1.0000 - val_loss: 0.3689 - val_accuracy: 0.9134\n",
      "Epoch 33/100\n",
      "11/11 [==============================] - 1s 51ms/step - loss: 0.0038 - accuracy: 0.9993 - val_loss: 0.3681 - val_accuracy: 0.9134\n",
      "Epoch 34/100\n",
      "11/11 [==============================] - 1s 48ms/step - loss: 0.0040 - accuracy: 0.9993 - val_loss: 0.3816 - val_accuracy: 0.9194\n",
      "Epoch 35/100\n",
      "11/11 [==============================] - 1s 51ms/step - loss: 0.0036 - accuracy: 1.0000 - val_loss: 0.3837 - val_accuracy: 0.9134\n",
      "Epoch 36/100\n",
      "11/11 [==============================] - 1s 48ms/step - loss: 0.0033 - accuracy: 1.0000 - val_loss: 0.3643 - val_accuracy: 0.9134\n",
      "Epoch 37/100\n",
      "11/11 [==============================] - 1s 50ms/step - loss: 0.0025 - accuracy: 1.0000 - val_loss: 0.3773 - val_accuracy: 0.9224\n",
      "Epoch 38/100\n",
      "11/11 [==============================] - 1s 50ms/step - loss: 0.0024 - accuracy: 1.0000 - val_loss: 0.3802 - val_accuracy: 0.9194\n",
      "Epoch 39/100\n",
      "11/11 [==============================] - 1s 50ms/step - loss: 0.0022 - accuracy: 1.0000 - val_loss: 0.3790 - val_accuracy: 0.9164\n",
      "Epoch 40/100\n",
      "11/11 [==============================] - 1s 47ms/step - loss: 0.0021 - accuracy: 1.0000 - val_loss: 0.3871 - val_accuracy: 0.9164\n",
      "Epoch 41/100\n",
      "11/11 [==============================] - 1s 51ms/step - loss: 0.0020 - accuracy: 1.0000 - val_loss: 0.3814 - val_accuracy: 0.9104\n",
      "Epoch 42/100\n",
      "11/11 [==============================] - 1s 46ms/step - loss: 0.0018 - accuracy: 1.0000 - val_loss: 0.3786 - val_accuracy: 0.9194\n",
      "Epoch 43/100\n",
      "11/11 [==============================] - 1s 51ms/step - loss: 0.0018 - accuracy: 1.0000 - val_loss: 0.3746 - val_accuracy: 0.9194\n",
      "Epoch 44/100\n",
      "11/11 [==============================] - 1s 49ms/step - loss: 0.0019 - accuracy: 1.0000 - val_loss: 0.3812 - val_accuracy: 0.9134\n",
      "Epoch 45/100\n",
      "11/11 [==============================] - 1s 46ms/step - loss: 0.0016 - accuracy: 1.0000 - val_loss: 0.3846 - val_accuracy: 0.9164\n",
      "Epoch 46/100\n",
      "11/11 [==============================] - 1s 50ms/step - loss: 0.0017 - accuracy: 1.0000 - val_loss: 0.3849 - val_accuracy: 0.9164\n",
      "Epoch 47/100\n",
      "11/11 [==============================] - 1s 48ms/step - loss: 0.0014 - accuracy: 1.0000 - val_loss: 0.3879 - val_accuracy: 0.9104\n",
      "Epoch 48/100\n",
      "11/11 [==============================] - 1s 50ms/step - loss: 0.0017 - accuracy: 1.0000 - val_loss: 0.4003 - val_accuracy: 0.9075\n",
      "Epoch 49/100\n",
      "11/11 [==============================] - 1s 46ms/step - loss: 0.0017 - accuracy: 1.0000 - val_loss: 0.3955 - val_accuracy: 0.9164\n",
      "Epoch 50/100\n",
      "11/11 [==============================] - 1s 49ms/step - loss: 0.0016 - accuracy: 1.0000 - val_loss: 0.3854 - val_accuracy: 0.9164\n",
      "Epoch 51/100\n",
      "11/11 [==============================] - 1s 48ms/step - loss: 0.0015 - accuracy: 1.0000 - val_loss: 0.3855 - val_accuracy: 0.9224\n",
      "Epoch 52/100\n",
      "11/11 [==============================] - 1s 50ms/step - loss: 0.0013 - accuracy: 1.0000 - val_loss: 0.3899 - val_accuracy: 0.9254\n",
      "Epoch 53/100\n",
      "11/11 [==============================] - 1s 46ms/step - loss: 0.0013 - accuracy: 1.0000 - val_loss: 0.3913 - val_accuracy: 0.9164\n",
      "Epoch 54/100\n",
      "11/11 [==============================] - 1s 49ms/step - loss: 0.0011 - accuracy: 1.0000 - val_loss: 0.3924 - val_accuracy: 0.9194\n",
      "Epoch 55/100\n",
      "11/11 [==============================] - 1s 48ms/step - loss: 0.0012 - accuracy: 1.0000 - val_loss: 0.3940 - val_accuracy: 0.9254\n",
      "Epoch 56/100\n",
      "11/11 [==============================] - 1s 50ms/step - loss: 0.0011 - accuracy: 1.0000 - val_loss: 0.3964 - val_accuracy: 0.9194\n",
      "Epoch 57/100\n",
      "11/11 [==============================] - 1s 46ms/step - loss: 0.0010 - accuracy: 1.0000 - val_loss: 0.3985 - val_accuracy: 0.9194\n",
      "Epoch 58/100\n",
      "11/11 [==============================] - 1s 49ms/step - loss: 9.8856e-04 - accuracy: 1.0000 - val_loss: 0.3946 - val_accuracy: 0.9224\n",
      "Epoch 59/100\n",
      "11/11 [==============================] - 1s 48ms/step - loss: 9.9277e-04 - accuracy: 1.0000 - val_loss: 0.3924 - val_accuracy: 0.9224\n",
      "Epoch 60/100\n",
      "11/11 [==============================] - 1s 49ms/step - loss: 9.6924e-04 - accuracy: 1.0000 - val_loss: 0.3919 - val_accuracy: 0.9224\n",
      "Epoch 61/100\n",
      "11/11 [==============================] - 1s 48ms/step - loss: 9.8601e-04 - accuracy: 1.0000 - val_loss: 0.3952 - val_accuracy: 0.9224\n",
      "Epoch 62/100\n",
      "11/11 [==============================] - 1s 48ms/step - loss: 8.4571e-04 - accuracy: 1.0000 - val_loss: 0.4017 - val_accuracy: 0.9194\n",
      "Epoch 63/100\n",
      "11/11 [==============================] - 1s 50ms/step - loss: 8.8333e-04 - accuracy: 1.0000 - val_loss: 0.4002 - val_accuracy: 0.9194\n",
      "Epoch 64/100\n",
      "11/11 [==============================] - 1s 47ms/step - loss: 8.1006e-04 - accuracy: 1.0000 - val_loss: 0.4011 - val_accuracy: 0.9194\n",
      "Epoch 65/100\n",
      "11/11 [==============================] - 1s 50ms/step - loss: 9.1665e-04 - accuracy: 1.0000 - val_loss: 0.4000 - val_accuracy: 0.9194\n",
      "Epoch 66/100\n",
      "11/11 [==============================] - 1s 48ms/step - loss: 8.5190e-04 - accuracy: 1.0000 - val_loss: 0.3964 - val_accuracy: 0.9194\n",
      "Epoch 67/100\n",
      "11/11 [==============================] - 1s 48ms/step - loss: 9.6590e-04 - accuracy: 1.0000 - val_loss: 0.4040 - val_accuracy: 0.9164\n",
      "Epoch 68/100\n",
      "11/11 [==============================] - 1s 49ms/step - loss: 8.2159e-04 - accuracy: 1.0000 - val_loss: 0.4067 - val_accuracy: 0.9194\n",
      "Epoch 69/100\n",
      "11/11 [==============================] - 1s 49ms/step - loss: 7.0844e-04 - accuracy: 1.0000 - val_loss: 0.4038 - val_accuracy: 0.9284\n",
      "Epoch 70/100\n",
      "11/11 [==============================] - 1s 51ms/step - loss: 8.2048e-04 - accuracy: 1.0000 - val_loss: 0.4020 - val_accuracy: 0.9164\n",
      "Epoch 71/100\n",
      "11/11 [==============================] - 1s 47ms/step - loss: 7.5032e-04 - accuracy: 1.0000 - val_loss: 0.4074 - val_accuracy: 0.9194\n",
      "Epoch 72/100\n",
      "11/11 [==============================] - 1s 47ms/step - loss: 7.3158e-04 - accuracy: 1.0000 - val_loss: 0.4127 - val_accuracy: 0.9194\n",
      "Epoch 73/100\n",
      "11/11 [==============================] - 1s 49ms/step - loss: 6.7662e-04 - accuracy: 1.0000 - val_loss: 0.4100 - val_accuracy: 0.9164\n",
      "Epoch 74/100\n"
     ]
    }
   ],
   "source": [
    "dummy_classifier.execute_pipeline()\n",
    "single_feat_dt_classifier.execute_pipeline()\n",
    "multi_dense_dl.execute_pipeline()"
   ]
  },
  {
   "cell_type": "markdown",
   "id": "a469263d",
   "metadata": {},
   "source": [
    "* Evaluate on the Validation set"
   ]
  },
  {
   "cell_type": "code",
   "execution_count": null,
   "id": "64bb93a5",
   "metadata": {},
   "outputs": [],
   "source": [
    "dummy_val_prds = pd.read_csv(settings.sources_sinks_path + '/dummy_classifier_val_predictions.csv',\n",
    "                            index_col = 0)\n",
    "\n",
    "dec_tree_val_preds = pd.read_csv(settings.sources_sinks_path + '/decision_tree_val_predictions.csv',\n",
    "                                 index_col = 0)\n",
    "\n",
    "dl_val_preds = pd.read_csv(settings.sources_sinks_path + '/multi_dense_val_predictions.csv',\n",
    "                            index_col = 0)"
   ]
  },
  {
   "cell_type": "code",
   "execution_count": null,
   "id": "fcb3daa5",
   "metadata": {},
   "outputs": [],
   "source": [
    "print(\"Accuracy Score and Classification Report of dummy classifier\")\n",
    "print(accuracy_score(y_val,dummy_val_prds))\n",
    "print(classification_report(y_val,dummy_val_prds))\n",
    "print(\"================================================\")\n",
    "print(\"Accuracy Score and Classification Report of single feature dec tree classifier\")\n",
    "print(accuracy_score(y_val,dec_tree_val_preds))\n",
    "print(classification_report(y_val,dec_tree_val_preds))\n",
    "print(\"================================================\")\n",
    "print(\"Accuracy Score and Classification Report of actual DL modeling approach\")\n",
    "print(accuracy_score(y_val,dl_val_preds))\n",
    "print(classification_report(y_val,dl_val_preds))"
   ]
  },
  {
   "cell_type": "markdown",
   "id": "0d56385a",
   "metadata": {},
   "source": [
    "* We can see that the validation results of the DL approach is ~0.9, which is quite encouraging!\n",
    "\n",
    "* The current model is saved and will be used to predict on the test set\n",
    "\n",
    "* Below, we provide the mapping of labels and label_encodings for reference"
   ]
  },
  {
   "cell_type": "code",
   "execution_count": null,
   "id": "4ae1ee56",
   "metadata": {},
   "outputs": [],
   "source": [
    "label_mapping_dataframe = pd.read_csv(settings.sources_sinks_path + '/label_mapping_dataframe.csv',\n",
    "                                     index_col=0)\n",
    "\n",
    "print(label_mapping_dataframe)"
   ]
  }
 ],
 "metadata": {
  "kernelspec": {
   "display_name": "Python 3",
   "language": "python",
   "name": "python3"
  },
  "language_info": {
   "codemirror_mode": {
    "name": "ipython",
    "version": 3
   },
   "file_extension": ".py",
   "mimetype": "text/x-python",
   "name": "python",
   "nbconvert_exporter": "python",
   "pygments_lexer": "ipython3",
   "version": "3.7.9"
  }
 },
 "nbformat": 4,
 "nbformat_minor": 5
}

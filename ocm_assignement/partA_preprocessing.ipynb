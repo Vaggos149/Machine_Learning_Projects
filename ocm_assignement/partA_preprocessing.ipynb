{
 "cells": [
  {
   "cell_type": "code",
   "execution_count": 1,
   "id": "90e4ca12",
   "metadata": {},
   "outputs": [],
   "source": [
    "import pandas as pd\n",
    "import numpy as np\n",
    "import spacy\n",
    "from sklearn.model_selection import train_test_split"
   ]
  },
  {
   "cell_type": "markdown",
   "id": "52fa0478",
   "metadata": {},
   "source": [
    "* Running Dependencies"
   ]
  },
  {
   "cell_type": "code",
   "execution_count": 2,
   "id": "71f3d965",
   "metadata": {},
   "outputs": [],
   "source": [
    "%run partA_utilities.ipynb"
   ]
  },
  {
   "cell_type": "markdown",
   "id": "41615e26",
   "metadata": {},
   "source": [
    "* Defining Mode and creating directory"
   ]
  },
  {
   "cell_type": "code",
   "execution_count": 3,
   "id": "bc747bd1",
   "metadata": {},
   "outputs": [
    {
     "name": "stdout",
     "output_type": "stream",
     "text": [
      "Directory for mode: prd already exists\n"
     ]
    }
   ],
   "source": [
    "mode = \"prd\"\n",
    "\n",
    "make_mode_file(mode)"
   ]
  },
  {
   "cell_type": "markdown",
   "id": "54ccc36c",
   "metadata": {},
   "source": [
    "* Defining Settings"
   ]
  },
  {
   "cell_type": "code",
   "execution_count": 4,
   "id": "0410a74f",
   "metadata": {},
   "outputs": [],
   "source": [
    "settings = Settings(mode = mode)"
   ]
  },
  {
   "cell_type": "markdown",
   "id": "8476c02b",
   "metadata": {},
   "source": [
    "* Main Preprocessing"
   ]
  },
  {
   "cell_type": "code",
   "execution_count": 5,
   "id": "a6a286f5",
   "metadata": {},
   "outputs": [],
   "source": [
    "train_data = pd.read_csv(settings.train_data_path)\n",
    "test_data = pd.read_csv(settings.test_data_path)"
   ]
  },
  {
   "cell_type": "markdown",
   "id": "d2872f50",
   "metadata": {},
   "source": [
    "* Defining Preprocessing Object"
   ]
  },
  {
   "cell_type": "code",
   "execution_count": 6,
   "id": "24f6c234",
   "metadata": {},
   "outputs": [],
   "source": [
    "preprocessor = DataPreprocessing(mode=mode, settings=settings)"
   ]
  },
  {
   "cell_type": "markdown",
   "id": "ac99d50f",
   "metadata": {},
   "source": [
    "* Creating Titles and Themes"
   ]
  },
  {
   "cell_type": "code",
   "execution_count": 7,
   "id": "37d59cca",
   "metadata": {},
   "outputs": [],
   "source": [
    "train_data = preprocessor.create_site_titles_and_themes(train_data)\n",
    "test_data = preprocessor.create_site_titles_and_themes(test_data)"
   ]
  },
  {
   "cell_type": "markdown",
   "id": "e727b644",
   "metadata": {},
   "source": [
    "* Removing stopwords and punctuation"
   ]
  },
  {
   "cell_type": "code",
   "execution_count": 8,
   "id": "45582025",
   "metadata": {},
   "outputs": [],
   "source": [
    "train_data = preprocessor.remove_stopwords_and_punctuation(train_data)\n",
    "test_data = preprocessor.remove_stopwords_and_punctuation(test_data)"
   ]
  },
  {
   "cell_type": "markdown",
   "id": "3349d3ef",
   "metadata": {},
   "source": [
    "* Performing Lemmatization"
   ]
  },
  {
   "cell_type": "code",
   "execution_count": 9,
   "id": "6dc8b8ec",
   "metadata": {},
   "outputs": [],
   "source": [
    "train_data = preprocessor.lemmatization(train_data)\n",
    "test_data = preprocessor.lemmatization(test_data)"
   ]
  },
  {
   "cell_type": "markdown",
   "id": "8d66284f",
   "metadata": {},
   "source": [
    "* Constructing Embeddings"
   ]
  },
  {
   "cell_type": "code",
   "execution_count": 10,
   "id": "9e7d5e5e",
   "metadata": {},
   "outputs": [],
   "source": [
    "train_data = preprocessor.construct_embeddings(train_data)\n",
    "test_data = preprocessor.construct_embeddings(test_data)"
   ]
  },
  {
   "cell_type": "markdown",
   "id": "98c9a2a3",
   "metadata": {},
   "source": [
    "* Encoding Target Labels"
   ]
  },
  {
   "cell_type": "code",
   "execution_count": 11,
   "id": "86831ba9",
   "metadata": {},
   "outputs": [],
   "source": [
    "train_data = preprocessor.encode_target_labels(train_data)\n",
    "test_data = preprocessor.encode_target_labels(test_data)"
   ]
  },
  {
   "cell_type": "markdown",
   "id": "b5c7b97b",
   "metadata": {},
   "source": [
    "* Splitting to Training and Validation Sets on train set:\n",
    "\n",
    "* The validation set will serve as a pre-step, before applying the final model to the test set"
   ]
  },
  {
   "cell_type": "code",
   "execution_count": 12,
   "id": "26ab2850",
   "metadata": {},
   "outputs": [],
   "source": [
    "X_train, X_val, y_train, y_val = train_test_split(train_data.drop('label', axis = 1), \n",
    "                                                  train_data['label'], \n",
    "                                                  test_size=0.33, \n",
    "                                                  random_state=42\n",
    "                                                  )"
   ]
  },
  {
   "cell_type": "markdown",
   "id": "3737503b",
   "metadata": {},
   "source": [
    "* Writing to sinks all of the processed sets of data"
   ]
  },
  {
   "cell_type": "code",
   "execution_count": 13,
   "id": "99cb4a17",
   "metadata": {},
   "outputs": [],
   "source": [
    "preprocessor.write_to_sinks(write_path = settings.mode_path + '/train_data_processed.csv',\n",
    "                            dataset = train_data)\n",
    "\n",
    "preprocessor.write_to_sinks(write_path = settings.mode_path + '/test_data_processed.csv',\n",
    "                            dataset = test_data)\n",
    "\n",
    "preprocessor.write_to_sinks(write_path = settings.mode_path + '/X_train.csv',\n",
    "                            dataset = X_train)\n",
    "\n",
    "preprocessor.write_to_sinks(write_path = settings.mode_path + '/X_val.csv',\n",
    "                            dataset = X_val)\n",
    "\n",
    "preprocessor.write_to_sinks(write_path = settings.mode_path + '/y_train.csv',\n",
    "                            dataset = y_train)\n",
    "\n",
    "preprocessor.write_to_sinks(write_path = settings.mode_path + '/y_val.csv',\n",
    "                            dataset = y_val)\n",
    "\n",
    "preprocessor.write_mapping_dataframe_to_sinks()"
   ]
  }
 ],
 "metadata": {
  "kernelspec": {
   "display_name": "Python 3",
   "language": "python",
   "name": "python3"
  },
  "language_info": {
   "codemirror_mode": {
    "name": "ipython",
    "version": 3
   },
   "file_extension": ".py",
   "mimetype": "text/x-python",
   "name": "python",
   "nbconvert_exporter": "python",
   "pygments_lexer": "ipython3",
   "version": "3.7.9"
  }
 },
 "nbformat": 4,
 "nbformat_minor": 5
}

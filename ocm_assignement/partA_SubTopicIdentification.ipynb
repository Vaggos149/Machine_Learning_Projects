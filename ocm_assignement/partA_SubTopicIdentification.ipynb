{
 "cells": [
  {
   "cell_type": "markdown",
   "id": "6cfbcc60",
   "metadata": {},
   "source": [
    "* This notebook executes a clustering procedure on a column of choice in order to identify sub-topics from specific classes on Sports label classes. We are only experimenting with Sports classes to demonstrate the approach that could be used in order to tackle the required task.\n",
    "\n",
    "* A directly similart approach can be used to several other columns as well. For efficiency reasons, we only experiment with the Sports Column"
   ]
  },
  {
   "cell_type": "code",
   "execution_count": 1,
   "id": "1e58c0fa",
   "metadata": {},
   "outputs": [],
   "source": [
    "from sklearn.cluster import OPTICS"
   ]
  },
  {
   "cell_type": "markdown",
   "id": "66028ff6",
   "metadata": {},
   "source": [
    "* Running Dependencies"
   ]
  },
  {
   "cell_type": "code",
   "execution_count": 2,
   "id": "495c0ebd",
   "metadata": {},
   "outputs": [],
   "source": [
    "%run partA_utilities.ipynb"
   ]
  },
  {
   "cell_type": "markdown",
   "id": "02f1b440",
   "metadata": {},
   "source": [
    "* Defining Mode and creating directory"
   ]
  },
  {
   "cell_type": "code",
   "execution_count": 3,
   "id": "94e31512",
   "metadata": {},
   "outputs": [
    {
     "name": "stdout",
     "output_type": "stream",
     "text": [
      "Directory for mode: prd already exists\n"
     ]
    }
   ],
   "source": [
    "mode = \"prd\"\n",
    "\n",
    "make_mode_file(mode)"
   ]
  },
  {
   "cell_type": "markdown",
   "id": "f6d9c3d9",
   "metadata": {},
   "source": [
    "* Defining Settings"
   ]
  },
  {
   "cell_type": "code",
   "execution_count": 4,
   "id": "ecbf8a4d",
   "metadata": {},
   "outputs": [],
   "source": [
    "settings = Settings(mode = mode)"
   ]
  },
  {
   "cell_type": "markdown",
   "id": "f32e4e1d",
   "metadata": {},
   "source": [
    "* Input Data"
   ]
  },
  {
   "cell_type": "code",
   "execution_count": 8,
   "id": "b94e6768",
   "metadata": {},
   "outputs": [],
   "source": [
    "input_data = pd.read_csv(settings.train_data_path)\n",
    "X_train = pd.read_csv(settings.mode_path + '/X_train.csv', index_col=0)\n",
    "X_val = pd.read_csv(settings.mode_path + '/X_val.csv', index_col=0)\n",
    "y_train = pd.read_csv(settings.mode_path + '/y_train.csv', index_col=0)\n"
   ]
  },
  {
   "cell_type": "markdown",
   "id": "93239c70",
   "metadata": {},
   "source": [
    "* Create Dataframes of only Sports as label"
   ]
  },
  {
   "cell_type": "code",
   "execution_count": 9,
   "id": "79864ca5",
   "metadata": {},
   "outputs": [],
   "source": [
    "sports = input_data[input_data['label']==\"Sports\"].sort_index().reset_index()\n",
    "X_train = X_train[X_train['original_label_col']==\"Sports\"].sort_index().reset_index()\n",
    "X_val = X_val[X_val['original_label_col']==\"Sports\"].sort_index().reset_index()"
   ]
  },
  {
   "cell_type": "markdown",
   "id": "9af6dab1",
   "metadata": {},
   "source": [
    "* Processing X_train: \n",
    "We will use this dataset for demonstration purposes. Similar approach can be used to the whole dataset"
   ]
  },
  {
   "cell_type": "code",
   "execution_count": 10,
   "id": "e558ae34",
   "metadata": {},
   "outputs": [],
   "source": [
    "X_train = transform_dataframe_list_columns_to_arrays(X_train, \n",
    "                                                     list_of_string_cols = [\"title\", \n",
    "                                                                            \"content\", \n",
    "                                                                            \"site_title\", \n",
    "                                                                            \"theme\"]\n",
    "                                                    )"
   ]
  },
  {
   "cell_type": "markdown",
   "id": "6618a5f1",
   "metadata": {},
   "source": [
    "* Executing OPTICS Clustering and grabing the labels. Min_samples=3 was selected after experimentation"
   ]
  },
  {
   "cell_type": "code",
   "execution_count": 11,
   "id": "5f0cfc67",
   "metadata": {},
   "outputs": [
    {
     "name": "stdout",
     "output_type": "stream",
     "text": [
      "[-1  0  1  2  3  4]\n"
     ]
    }
   ],
   "source": [
    "optics = OPTICS(min_samples=3)\n",
    "optics.fit(get_array_from_pandas_col_of_arrays(X_train, \"content\"))\n",
    "labels = optics.labels_\n",
    "X_train['clust_labels'] = labels\n",
    "print(np.unique(labels))"
   ]
  },
  {
   "cell_type": "markdown",
   "id": "b3b43107",
   "metadata": {},
   "source": [
    "* Merging Dataframes to grab the content and the clustering label"
   ]
  },
  {
   "cell_type": "code",
   "execution_count": 12,
   "id": "74ade7de",
   "metadata": {},
   "outputs": [],
   "source": [
    "merged_datrame = pd.merge(X_train.loc[:, [\"index\", \"clust_labels\"]], \n",
    "                          sports.loc[:, [\"content\", \"index\", \"title\"]],\n",
    "                          on = \"index\")"
   ]
  },
  {
   "cell_type": "markdown",
   "id": "d228ec88",
   "metadata": {},
   "source": [
    "* Exploring the produced clusters as the provided labels: Keep in mind that, in OPTICS, the -1 label denotes an un-clustered data point"
   ]
  },
  {
   "cell_type": "code",
   "execution_count": 13,
   "id": "b59475ce",
   "metadata": {},
   "outputs": [
    {
     "data": {
      "text/html": [
       "<div>\n",
       "<style scoped>\n",
       "    .dataframe tbody tr th:only-of-type {\n",
       "        vertical-align: middle;\n",
       "    }\n",
       "\n",
       "    .dataframe tbody tr th {\n",
       "        vertical-align: top;\n",
       "    }\n",
       "\n",
       "    .dataframe thead th {\n",
       "        text-align: right;\n",
       "    }\n",
       "</style>\n",
       "<table border=\"1\" class=\"dataframe\">\n",
       "  <thead>\n",
       "    <tr style=\"text-align: right;\">\n",
       "      <th></th>\n",
       "      <th>index</th>\n",
       "      <th>clust_labels</th>\n",
       "      <th>content</th>\n",
       "      <th>title</th>\n",
       "    </tr>\n",
       "  </thead>\n",
       "  <tbody>\n",
       "    <tr>\n",
       "      <th>127</th>\n",
       "      <td>1477</td>\n",
       "      <td>0</td>\n",
       "      <td>O 17χρονος Ούγγρος Κριστόφ Μίλακ είναι αυτός π...</td>\n",
       "      <td>Παγκόσμιο ρεκόρ και πιο γρήγορος από τον Φελπς!</td>\n",
       "    </tr>\n",
       "    <tr>\n",
       "      <th>152</th>\n",
       "      <td>1737</td>\n",
       "      <td>0</td>\n",
       "      <td>Οι Νορβηγοί συνεχίζουν τους αγώνες διοργανώνον...</td>\n",
       "      <td>Καλό 5αρι ο Ίνγκεμπριγκτσεν</td>\n",
       "    </tr>\n",
       "    <tr>\n",
       "      <th>158</th>\n",
       "      <td>1826</td>\n",
       "      <td>0</td>\n",
       "      <td>Με αρκετό κρύο και ισχυρό άνεμο ο Μίλτος Τεντό...</td>\n",
       "      <td>Ντάιαμοντ λιγκ Στοκχόλμη: 7.99μ. ο Τεντόγλου</td>\n",
       "    </tr>\n",
       "    <tr>\n",
       "      <th>164</th>\n",
       "      <td>1937</td>\n",
       "      <td>0</td>\n",
       "      <td>Μικρή συμμετοχή είχε σήμερα ο αγώνας κλειστού ...</td>\n",
       "      <td>Μικρή συμμετοχή, καλές επιδόσεις από τους μικρούς</td>\n",
       "    </tr>\n",
       "    <tr>\n",
       "      <th>181</th>\n",
       "      <td>2174</td>\n",
       "      <td>0</td>\n",
       "      <td>Το δεύτερη μίτινγκ κλειστού στίβου της σειρά w...</td>\n",
       "      <td>Δυνατό τεστ και ευκαιρία για όρια</td>\n",
       "    </tr>\n",
       "  </tbody>\n",
       "</table>\n",
       "</div>"
      ],
      "text/plain": [
       "     index  clust_labels                                            content  \\\n",
       "127   1477             0  O 17χρονος Ούγγρος Κριστόφ Μίλακ είναι αυτός π...   \n",
       "152   1737             0  Οι Νορβηγοί συνεχίζουν τους αγώνες διοργανώνον...   \n",
       "158   1826             0  Με αρκετό κρύο και ισχυρό άνεμο ο Μίλτος Τεντό...   \n",
       "164   1937             0  Μικρή συμμετοχή είχε σήμερα ο αγώνας κλειστού ...   \n",
       "181   2174             0  Το δεύτερη μίτινγκ κλειστού στίβου της σειρά w...   \n",
       "\n",
       "                                                 title  \n",
       "127    Παγκόσμιο ρεκόρ και πιο γρήγορος από τον Φελπς!  \n",
       "152                        Καλό 5αρι ο Ίνγκεμπριγκτσεν  \n",
       "158       Ντάιαμοντ λιγκ Στοκχόλμη: 7.99μ. ο Τεντόγλου  \n",
       "164  Μικρή συμμετοχή, καλές επιδόσεις από τους μικρούς  \n",
       "181                  Δυνατό τεστ και ευκαιρία για όρια  "
      ]
     },
     "execution_count": 13,
     "metadata": {},
     "output_type": "execute_result"
    }
   ],
   "source": [
    "merged_datrame[merged_datrame['clust_labels']==0] # Makes sence, right???????? Athletics"
   ]
  },
  {
   "cell_type": "code",
   "execution_count": 14,
   "id": "15845d13",
   "metadata": {},
   "outputs": [
    {
     "data": {
      "text/html": [
       "<div>\n",
       "<style scoped>\n",
       "    .dataframe tbody tr th:only-of-type {\n",
       "        vertical-align: middle;\n",
       "    }\n",
       "\n",
       "    .dataframe tbody tr th {\n",
       "        vertical-align: top;\n",
       "    }\n",
       "\n",
       "    .dataframe thead th {\n",
       "        text-align: right;\n",
       "    }\n",
       "</style>\n",
       "<table border=\"1\" class=\"dataframe\">\n",
       "  <thead>\n",
       "    <tr style=\"text-align: right;\">\n",
       "      <th></th>\n",
       "      <th>index</th>\n",
       "      <th>clust_labels</th>\n",
       "      <th>content</th>\n",
       "      <th>title</th>\n",
       "    </tr>\n",
       "  </thead>\n",
       "  <tbody>\n",
       "    <tr>\n",
       "      <th>17</th>\n",
       "      <td>213</td>\n",
       "      <td>1</td>\n",
       "      <td>Ο κλασικός βρετανικός (και το καλοκαίρι) καιρό...</td>\n",
       "      <td>O Hamilton πρόλαβε τη βροχή στο FP3</td>\n",
       "    </tr>\n",
       "    <tr>\n",
       "      <th>59</th>\n",
       "      <td>664</td>\n",
       "      <td>1</td>\n",
       "      <td>Με το δεξί ξεκίνησε ο  Lewis Hamilton  την προ...</td>\n",
       "      <td>GP Τουρκίας: Ταχύτερος ο Hamilton στο FP1</td>\n",
       "    </tr>\n",
       "    <tr>\n",
       "      <th>118</th>\n",
       "      <td>1394</td>\n",
       "      <td>1</td>\n",
       "      <td>Με συννεφιά, κρύο και βροχή υποδέχτηκε το Red ...</td>\n",
       "      <td>GP Αυστρίας: Ταχύτερες οι Mercedes στα ελεύθερα</td>\n",
       "    </tr>\n",
       "    <tr>\n",
       "      <th>129</th>\n",
       "      <td>1497</td>\n",
       "      <td>1</td>\n",
       "      <td>Μόλις μία ημέρα αγωνιστικής δράσης απέχει από ...</td>\n",
       "      <td>WRC Ράλι Ισπανίας: Αγκαλιά με νίκη-τίτλου ο Ogier</td>\n",
       "    </tr>\n",
       "    <tr>\n",
       "      <th>165</th>\n",
       "      <td>1942</td>\n",
       "      <td>1</td>\n",
       "      <td>Μπορεί το απόλυτο ρεκόρ της πίστας του Χανγκαρ...</td>\n",
       "      <td>Video: Ο ταχύτερος γύρος στην ιστορία του Χανγ...</td>\n",
       "    </tr>\n",
       "    <tr>\n",
       "      <th>177</th>\n",
       "      <td>2122</td>\n",
       "      <td>1</td>\n",
       "      <td>Η πρώτη και η δεύτερη περίοδος των ελεύθερων δ...</td>\n",
       "      <td>«Άπιαστη» η Mercedes με 1-2 στο FP1 και το FP2</td>\n",
       "    </tr>\n",
       "  </tbody>\n",
       "</table>\n",
       "</div>"
      ],
      "text/plain": [
       "     index  clust_labels                                            content  \\\n",
       "17     213             1  Ο κλασικός βρετανικός (και το καλοκαίρι) καιρό...   \n",
       "59     664             1  Με το δεξί ξεκίνησε ο  Lewis Hamilton  την προ...   \n",
       "118   1394             1  Με συννεφιά, κρύο και βροχή υποδέχτηκε το Red ...   \n",
       "129   1497             1  Μόλις μία ημέρα αγωνιστικής δράσης απέχει από ...   \n",
       "165   1942             1  Μπορεί το απόλυτο ρεκόρ της πίστας του Χανγκαρ...   \n",
       "177   2122             1  Η πρώτη και η δεύτερη περίοδος των ελεύθερων δ...   \n",
       "\n",
       "                                                 title  \n",
       "17                 O Hamilton πρόλαβε τη βροχή στο FP3  \n",
       "59           GP Τουρκίας: Ταχύτερος ο Hamilton στο FP1  \n",
       "118    GP Αυστρίας: Ταχύτερες οι Mercedes στα ελεύθερα  \n",
       "129  WRC Ράλι Ισπανίας: Αγκαλιά με νίκη-τίτλου ο Ogier  \n",
       "165  Video: Ο ταχύτερος γύρος στην ιστορία του Χανγ...  \n",
       "177     «Άπιαστη» η Mercedes με 1-2 στο FP1 και το FP2  "
      ]
     },
     "execution_count": 14,
     "metadata": {},
     "output_type": "execute_result"
    }
   ],
   "source": [
    "merged_datrame[merged_datrame['clust_labels']==1] # Makes sence, right???????? FORMULA1"
   ]
  },
  {
   "cell_type": "code",
   "execution_count": 15,
   "id": "65d9fc38",
   "metadata": {},
   "outputs": [
    {
     "data": {
      "text/html": [
       "<div>\n",
       "<style scoped>\n",
       "    .dataframe tbody tr th:only-of-type {\n",
       "        vertical-align: middle;\n",
       "    }\n",
       "\n",
       "    .dataframe tbody tr th {\n",
       "        vertical-align: top;\n",
       "    }\n",
       "\n",
       "    .dataframe thead th {\n",
       "        text-align: right;\n",
       "    }\n",
       "</style>\n",
       "<table border=\"1\" class=\"dataframe\">\n",
       "  <thead>\n",
       "    <tr style=\"text-align: right;\">\n",
       "      <th></th>\n",
       "      <th>index</th>\n",
       "      <th>clust_labels</th>\n",
       "      <th>content</th>\n",
       "      <th>title</th>\n",
       "    </tr>\n",
       "  </thead>\n",
       "  <tbody>\n",
       "    <tr>\n",
       "      <th>7</th>\n",
       "      <td>108</td>\n",
       "      <td>2</td>\n",
       "      <td>Ο Παναθηναϊκός είναι έτοιμος για το ματς με τη...</td>\n",
       "      <td>Παπαγιάννης και Σαντ Ρος ενόψει Χίμκι: «Να είμ...</td>\n",
       "    </tr>\n",
       "    <tr>\n",
       "      <th>81</th>\n",
       "      <td>865</td>\n",
       "      <td>2</td>\n",
       "      <td>Σόουζα στο Onsports: «Έζησα ξεχωριστές στιγμές...</td>\n",
       "      <td>Σόουζα στο Onsports: «Έζησα ξεχωριστές στιγμές...</td>\n",
       "    </tr>\n",
       "    <tr>\n",
       "      <th>100</th>\n",
       "      <td>1209</td>\n",
       "      <td>2</td>\n",
       "      <td>Ο προπονητής του Βελγίου Ρομπέρτο Μαρτίνεθ είχ...</td>\n",
       "      <td>Ρ.Μαρτίνεθ: «Η ομάδα μου το άξιζε»</td>\n",
       "    </tr>\n",
       "    <tr>\n",
       "      <th>130</th>\n",
       "      <td>1512</td>\n",
       "      <td>2</td>\n",
       "      <td>Ο Γιαννούλης Λαρεντζάκης επιστρέφει μετά από α...</td>\n",
       "      <td>Λαρεντζάκης: «Σταθεροί στο πλάνο μας...»</td>\n",
       "    </tr>\n",
       "    <tr>\n",
       "      <th>192</th>\n",
       "      <td>2376</td>\n",
       "      <td>2</td>\n",
       "      <td>Στην ήττα από την Αρμάνι Μιλάνο, στον αγώνα κό...</td>\n",
       "      <td>Μάρτιν: «Πρέπει να παίξω με περισσότερη αυτοπε...</td>\n",
       "    </tr>\n",
       "  </tbody>\n",
       "</table>\n",
       "</div>"
      ],
      "text/plain": [
       "     index  clust_labels                                            content  \\\n",
       "7      108             2  Ο Παναθηναϊκός είναι έτοιμος για το ματς με τη...   \n",
       "81     865             2  Σόουζα στο Onsports: «Έζησα ξεχωριστές στιγμές...   \n",
       "100   1209             2  Ο προπονητής του Βελγίου Ρομπέρτο Μαρτίνεθ είχ...   \n",
       "130   1512             2  Ο Γιαννούλης Λαρεντζάκης επιστρέφει μετά από α...   \n",
       "192   2376             2  Στην ήττα από την Αρμάνι Μιλάνο, στον αγώνα κό...   \n",
       "\n",
       "                                                 title  \n",
       "7    Παπαγιάννης και Σαντ Ρος ενόψει Χίμκι: «Να είμ...  \n",
       "81   Σόουζα στο Onsports: «Έζησα ξεχωριστές στιγμές...  \n",
       "100                 Ρ.Μαρτίνεθ: «Η ομάδα μου το άξιζε»  \n",
       "130           Λαρεντζάκης: «Σταθεροί στο πλάνο μας...»  \n",
       "192  Μάρτιν: «Πρέπει να παίξω με περισσότερη αυτοπε...  "
      ]
     },
     "execution_count": 15,
     "metadata": {},
     "output_type": "execute_result"
    }
   ],
   "source": [
    "merged_datrame[merged_datrame['clust_labels']==2] # Makes sence, right???????? BASKET"
   ]
  },
  {
   "cell_type": "code",
   "execution_count": 16,
   "id": "93d31aa9",
   "metadata": {},
   "outputs": [
    {
     "data": {
      "text/html": [
       "<div>\n",
       "<style scoped>\n",
       "    .dataframe tbody tr th:only-of-type {\n",
       "        vertical-align: middle;\n",
       "    }\n",
       "\n",
       "    .dataframe tbody tr th {\n",
       "        vertical-align: top;\n",
       "    }\n",
       "\n",
       "    .dataframe thead th {\n",
       "        text-align: right;\n",
       "    }\n",
       "</style>\n",
       "<table border=\"1\" class=\"dataframe\">\n",
       "  <thead>\n",
       "    <tr style=\"text-align: right;\">\n",
       "      <th></th>\n",
       "      <th>index</th>\n",
       "      <th>clust_labels</th>\n",
       "      <th>content</th>\n",
       "      <th>title</th>\n",
       "    </tr>\n",
       "  </thead>\n",
       "  <tbody>\n",
       "    <tr>\n",
       "      <th>142</th>\n",
       "      <td>1687</td>\n",
       "      <td>3</td>\n",
       "      <td>Με το απόλυτο ολοκλήρωσε τις υποχρεώσεις του γ...</td>\n",
       "      <td>Χριστουγεννιάτικος… περίπατος για Ολυμπιακό - ...</td>\n",
       "    </tr>\n",
       "    <tr>\n",
       "      <th>154</th>\n",
       "      <td>1785</td>\n",
       "      <td>3</td>\n",
       "      <td>H ομάδα πόλο του ΑΝΟ Γλυφάδας στους άνδρες θα ...</td>\n",
       "      <td>Τελικό μετά από 25 χρόνια ο ΑΝΟΓ!</td>\n",
       "    </tr>\n",
       "    <tr>\n",
       "      <th>155</th>\n",
       "      <td>1794</td>\n",
       "      <td>3</td>\n",
       "      <td>H ομάδα του ΝΟ Χίου είναι αυτή που κλέβει την ...</td>\n",
       "      <td>Εντυπωσιάζει ο ΝΟ Χίου</td>\n",
       "    </tr>\n",
       "  </tbody>\n",
       "</table>\n",
       "</div>"
      ],
      "text/plain": [
       "     index  clust_labels                                            content  \\\n",
       "142   1687             3  Με το απόλυτο ολοκλήρωσε τις υποχρεώσεις του γ...   \n",
       "154   1785             3  H ομάδα πόλο του ΑΝΟ Γλυφάδας στους άνδρες θα ...   \n",
       "155   1794             3  H ομάδα του ΝΟ Χίου είναι αυτή που κλέβει την ...   \n",
       "\n",
       "                                                 title  \n",
       "142  Χριστουγεννιάτικος… περίπατος για Ολυμπιακό - ...  \n",
       "154                  Τελικό μετά από 25 χρόνια ο ΑΝΟΓ!  \n",
       "155                             Εντυπωσιάζει ο ΝΟ Χίου  "
      ]
     },
     "execution_count": 16,
     "metadata": {},
     "output_type": "execute_result"
    }
   ],
   "source": [
    "merged_datrame[merged_datrame['clust_labels']==3]  # Makes sence, right???????? POLO"
   ]
  },
  {
   "cell_type": "code",
   "execution_count": 17,
   "id": "74bc19a9",
   "metadata": {},
   "outputs": [
    {
     "data": {
      "text/html": [
       "<div>\n",
       "<style scoped>\n",
       "    .dataframe tbody tr th:only-of-type {\n",
       "        vertical-align: middle;\n",
       "    }\n",
       "\n",
       "    .dataframe tbody tr th {\n",
       "        vertical-align: top;\n",
       "    }\n",
       "\n",
       "    .dataframe thead th {\n",
       "        text-align: right;\n",
       "    }\n",
       "</style>\n",
       "<table border=\"1\" class=\"dataframe\">\n",
       "  <thead>\n",
       "    <tr style=\"text-align: right;\">\n",
       "      <th></th>\n",
       "      <th>index</th>\n",
       "      <th>clust_labels</th>\n",
       "      <th>content</th>\n",
       "      <th>title</th>\n",
       "    </tr>\n",
       "  </thead>\n",
       "  <tbody>\n",
       "    <tr>\n",
       "      <th>43</th>\n",
       "      <td>470</td>\n",
       "      <td>4</td>\n",
       "      <td>Ο  Φοίνικας Σύρου  παρότι βρέθηκε να χάνει με ...</td>\n",
       "      <td>Ο Φοίνικας με ανατροπή 3-2 τον Παναθηναϊκό και...</td>\n",
       "    </tr>\n",
       "    <tr>\n",
       "      <th>57</th>\n",
       "      <td>646</td>\n",
       "      <td>4</td>\n",
       "      <td>Δύο στα δύο για την Εθνική κόντρα στην Ουκρανί...</td>\n",
       "      <td>Εθνική ανδρών: Νέα νίκη με 3-1 επί της Ουκρανίας</td>\n",
       "    </tr>\n",
       "    <tr>\n",
       "      <th>78</th>\n",
       "      <td>847</td>\n",
       "      <td>4</td>\n",
       "      <td>Οι ξένες της Σαντορίνης είχαν 9/50 επιθέσεις (...</td>\n",
       "      <td>Σούπερ Πανναξιακός πέρασε στο φάιναλ 4</td>\n",
       "    </tr>\n",
       "    <tr>\n",
       "      <th>128</th>\n",
       "      <td>1484</td>\n",
       "      <td>4</td>\n",
       "      <td>Με ηγέτη τον εκπληκτικό Σταύρο Κασαμπαλή, ο οπ...</td>\n",
       "      <td>Βόλεϊ λιγκ, ΑΟΠ Κηφισιάς-ΠΑΟΚ 3-2: Ανατροπή με...</td>\n",
       "    </tr>\n",
       "    <tr>\n",
       "      <th>157</th>\n",
       "      <td>1816</td>\n",
       "      <td>4</td>\n",
       "      <td>Η Τουρκία με τη δύναμη της έδρας νίκησε με 3-1...</td>\n",
       "      <td>Ευρωβόλεϊ γυναικών: Τουρκία-Σερβία ο τελικός</td>\n",
       "    </tr>\n",
       "  </tbody>\n",
       "</table>\n",
       "</div>"
      ],
      "text/plain": [
       "     index  clust_labels                                            content  \\\n",
       "43     470             4  Ο  Φοίνικας Σύρου  παρότι βρέθηκε να χάνει με ...   \n",
       "57     646             4  Δύο στα δύο για την Εθνική κόντρα στην Ουκρανί...   \n",
       "78     847             4  Οι ξένες της Σαντορίνης είχαν 9/50 επιθέσεις (...   \n",
       "128   1484             4  Με ηγέτη τον εκπληκτικό Σταύρο Κασαμπαλή, ο οπ...   \n",
       "157   1816             4  Η Τουρκία με τη δύναμη της έδρας νίκησε με 3-1...   \n",
       "\n",
       "                                                 title  \n",
       "43   Ο Φοίνικας με ανατροπή 3-2 τον Παναθηναϊκό και...  \n",
       "57    Εθνική ανδρών: Νέα νίκη με 3-1 επί της Ουκρανίας  \n",
       "78              Σούπερ Πανναξιακός πέρασε στο φάιναλ 4  \n",
       "128  Βόλεϊ λιγκ, ΑΟΠ Κηφισιάς-ΠΑΟΚ 3-2: Ανατροπή με...  \n",
       "157       Ευρωβόλεϊ γυναικών: Τουρκία-Σερβία ο τελικός  "
      ]
     },
     "execution_count": 17,
     "metadata": {},
     "output_type": "execute_result"
    }
   ],
   "source": [
    "merged_datrame[merged_datrame['clust_labels']==4] # Makes sence, right???????? VOLLEY"
   ]
  },
  {
   "cell_type": "markdown",
   "id": "56c731bc",
   "metadata": {},
   "source": [
    "* Unfortunately, most of the sports were unable to be clustered further. However, this was only a quick and dirty approach. Further experimentation could reveal more trends!"
   ]
  }
 ],
 "metadata": {
  "kernelspec": {
   "display_name": "Python 3",
   "language": "python",
   "name": "python3"
  },
  "language_info": {
   "codemirror_mode": {
    "name": "ipython",
    "version": 3
   },
   "file_extension": ".py",
   "mimetype": "text/x-python",
   "name": "python",
   "nbconvert_exporter": "python",
   "pygments_lexer": "ipython3",
   "version": "3.7.9"
  }
 },
 "nbformat": 4,
 "nbformat_minor": 5
}
